{
 "cells": [
  {
   "cell_type": "markdown",
   "id": "c08a347b",
   "metadata": {},
   "source": [
    "# 📘 Unificar Instagram — *títulos y explicaciones por celda*\n",
    "_Se añadieron títulos y descripciones breves antes de cada celda de código; tu lógica permanece intacta._"
   ]
  },
  {
   "cell_type": "markdown",
   "id": "e9df4bcf",
   "metadata": {},
   "source": [
    "## 📦 Dependencias\n",
    "- Carga librerías requeridas. Importa: pandas."
   ]
  },
  {
   "cell_type": "code",
   "execution_count": 7,
   "id": "170b894c-6a0e-4fac-b2a9-8c32294bf542",
   "metadata": {},
   "outputs": [],
   "source": [
    "import os, glob\n",
    "import pandas as pd"
   ]
  },
  {
   "cell_type": "code",
   "execution_count": 9,
   "id": "2958b095-a2b9-4ddd-a1d6-896423524f62",
   "metadata": {},
   "outputs": [],
   "source": [
    "# Carpeta donde tienes los CSV (ajusta si es necesario)\n",
    "DATA_DIR = os.getcwd()"
   ]
  },
  {
   "cell_type": "markdown",
   "id": "854f4c59",
   "metadata": {},
   "source": [
    "## 🧩 Unificación de datasets\n",
    "- Une tablas por claves comunes (merge/join)."
   ]
  },
  {
   "cell_type": "code",
   "execution_count": 11,
   "id": "ab9b79ed-8d59-4eba-9330-12277a708980",
   "metadata": {},
   "outputs": [],
   "source": [
    "# Patrón para coger todos los *_limpios*.csv\n",
    "FILE_PATTERN = os.path.join(DATA_DIR, \"*_limpios*.csv\")"
   ]
  },
  {
   "cell_type": "markdown",
   "id": "a6e75c18",
   "metadata": {},
   "source": [
    "## 🧪 Bloque de código\n",
    "- Operaciones varias sobre DataFrames."
   ]
  },
  {
   "cell_type": "code",
   "execution_count": 13,
   "id": "33ffb27f-3ec6-488e-8944-d7e52cc6526c",
   "metadata": {},
   "outputs": [
    {
     "name": "stdout",
     "output_type": "stream",
     "text": [
      "Archivos encontrados: ['Barcelona_limpios1.csv', 'Barcelona_limpios2.csv', 'Gran_Canaria_limpios.csv', 'Madrid_limpios.csv', 'Malaga_limpios.csv', 'Mallorca_limpios.csv', 'Sevilla_limpios.csv', 'Tenerife_limpios.csv', 'Valencia_limpios.csv']\n"
     ]
    }
   ],
   "source": [
    "# Lista de archivos encontrados\n",
    "files = glob.glob(FILE_PATTERN)\n",
    "print(\"Archivos encontrados:\", [os.path.basename(f) for f in files])"
   ]
  },
  {
   "cell_type": "markdown",
   "id": "c75fed41",
   "metadata": {},
   "source": [
    "## 📥 Carga de datasets\n",
    "- Lee fuentes: instagram_final.csv."
   ]
  },
  {
   "cell_type": "code",
   "execution_count": 15,
   "id": "e8d1f019-fb9f-4b5c-9794-28a2dcc5256e",
   "metadata": {},
   "outputs": [
    {
     "name": "stdout",
     "output_type": "stream",
     "text": [
      "OK: Barcelona_limpios1.csv -> 508 filas\n",
      "OK: Barcelona_limpios2.csv -> 157 filas\n",
      "OK: Gran_Canaria_limpios.csv -> 328 filas\n",
      "OK: Madrid_limpios.csv -> 423 filas\n",
      "OK: Malaga_limpios.csv -> 240 filas\n",
      "OK: Mallorca_limpios.csv -> 358 filas\n",
      "OK: Sevilla_limpios.csv -> 478 filas\n",
      "OK: Tenerife_limpios.csv -> 418 filas\n",
      "OK: Valencia_limpios.csv -> 376 filas\n",
      "\n",
      "Archivo final guardado en: C:\\Users\\Karina\\TFM\\Limpieza\\Instagram posts\\instagram_final.csv | Filas: 3286\n"
     ]
    }
   ],
   "source": [
    "# Leer y concatenar todos\n",
    "dfs = []\n",
    "for fp in files:\n",
    "    try:\n",
    "        df = pd.read_csv(fp, encoding=\"utf-8\")\n",
    "        dfs.append(df)\n",
    "        print(\"OK:\", os.path.basename(fp), \"->\", len(df), \"filas\")\n",
    "    except Exception as e:\n",
    "        print(\"ERROR:\", os.path.basename(fp), \"->\", e)\n",
    "\n",
    "# Unificar en un DataFrame\n",
    "if dfs:\n",
    "    final_df = pd.concat(dfs, ignore_index=True)\n",
    "    out_path = os.path.join(DATA_DIR, \"instagram_final.csv\")\n",
    "    final_df.to_csv(out_path, index=False, encoding=\"utf-8\")\n",
    "    print(\"\\nArchivo final guardado en:\", out_path, \"| Filas:\", len(final_df))\n",
    "else:\n",
    "    print(\"No se pudo unificar (no se cargaron CSVs)\")"
   ]
  },
  {
   "cell_type": "markdown",
   "id": "15e7cc9e",
   "metadata": {},
   "source": [
    "## 🧪 Bloque de código\n",
    "- Operaciones varias sobre DataFrames."
   ]
  },
  {
   "cell_type": "code",
   "execution_count": null,
   "id": "31c1ba49-38c3-4de2-bd3a-55cba4e2b89e",
   "metadata": {},
   "outputs": [],
   "source": []
  }
 ],
 "metadata": {
  "kernelspec": {
   "display_name": "Python 3 (ipykernel)",
   "language": "python",
   "name": "python3"
  },
  "language_info": {
   "codemirror_mode": {
    "name": "ipython",
    "version": 3
   },
   "file_extension": ".py",
   "mimetype": "text/x-python",
   "name": "python",
   "nbconvert_exporter": "python",
   "pygments_lexer": "ipython3",
   "version": "3.12.2"
  }
 },
 "nbformat": 4,
 "nbformat_minor": 5
}
