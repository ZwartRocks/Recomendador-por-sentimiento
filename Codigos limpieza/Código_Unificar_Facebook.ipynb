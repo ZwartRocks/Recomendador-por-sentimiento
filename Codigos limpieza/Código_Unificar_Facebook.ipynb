{
 "cells": [
  {
   "cell_type": "markdown",
   "id": "f84a52f9",
   "metadata": {},
   "source": [
    "# 📘 Unificar Facebook "
   ]
  },
  {
   "cell_type": "markdown",
   "id": "6858e3db",
   "metadata": {},
   "source": [
    "## 🧰 Librerías e importaciones\n",
    "- Carga librerías requeridas. Importa: pandas."
   ]
  },
  {
   "cell_type": "code",
   "execution_count": 1,
   "id": "e0f62e8d-95b1-4d4f-872c-8173506b6864",
   "metadata": {},
   "outputs": [],
   "source": [
    "import pandas as pd"
   ]
  },
  {
   "cell_type": "markdown",
   "id": "24d21c86",
   "metadata": {},
   "source": [
    "## 📥 Carga de datasets\n",
    "- Lee fuentes: Barcelona_limpios.csv, Gran_Canaria_limpios.csv, Madrid_limpios.csv."
   ]
  },
  {
   "cell_type": "code",
   "execution_count": 3,
   "id": "16321c03-5f39-4c94-83ff-971e165ad0d1",
   "metadata": {},
   "outputs": [
    {
     "name": "stdout",
     "output_type": "stream",
     "text": [
      "✅ Archivo unificado guardado como 'facebook_final.csv'\n",
      "Número total de filas: 21852\n"
     ]
    }
   ],
   "source": [
    "# Lista de archivos\n",
    "archivos = [\n",
    "    \"Barcelona_limpios.csv\",\n",
    "    \"Gran_Canaria_limpios.csv\",\n",
    "    \"Madrid_limpios.csv\",\n",
    "    \"Malaga_limpios.csv\",\n",
    "    \"Mallorca_limpios.csv\",\n",
    "    \"Sevilla_limpios.csv\",\n",
    "    \"Tenerife_limpios.csv\",\n",
    "    \"Valencia_limpios.csv\"\n",
    "]\n",
    "\n",
    "# Leer y concatenar\n",
    "dfs = [pd.read_csv(f) for f in archivos]\n",
    "facebook_final = pd.concat(dfs, ignore_index=True)\n",
    "\n",
    "# Guardar unificado\n",
    "facebook_final.to_csv(\"facebook_final.csv\", index=False, encoding=\"utf-8\")\n",
    "\n",
    "print(\"✅ Archivo unificado guardado como 'facebook_final.csv'\")\n",
    "print(\"Número total de filas:\", len(facebook_final))"
   ]
  },
  {
   "cell_type": "code",
   "execution_count": null,
   "id": "e263acdf-00f9-4b8c-9014-6d2f512a04d4",
   "metadata": {},
   "outputs": [],
   "source": []
  }
 ],
 "metadata": {
  "kernelspec": {
   "display_name": "Python 3 (ipykernel)",
   "language": "python",
   "name": "python3"
  },
  "language_info": {
   "codemirror_mode": {
    "name": "ipython",
    "version": 3
   },
   "file_extension": ".py",
   "mimetype": "text/x-python",
   "name": "python",
   "nbconvert_exporter": "python",
   "pygments_lexer": "ipython3",
   "version": "3.12.2"
  }
 },
 "nbformat": 4,
 "nbformat_minor": 5
}
