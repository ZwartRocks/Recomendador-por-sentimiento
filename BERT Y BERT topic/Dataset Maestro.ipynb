{
 "cells": [
  {
   "cell_type": "code",
   "execution_count": 1,
   "id": "fcef7d82-eb6b-4607-91bf-df02c8176d1d",
   "metadata": {},
   "outputs": [],
   "source": [
    "import pandas as pd"
   ]
  },
  {
   "cell_type": "code",
   "execution_count": 73,
   "id": "1b79a3f1-0c34-4900-8b83-dbc1634bcfbe",
   "metadata": {},
   "outputs": [],
   "source": [
    "atracciones_df = pd.read_csv('booking_reviews_atracciones_final.csv')\n",
    "facebook_df = pd.read_csv('facebook_final.csv')\n",
    "getyourguide_df = pd.read_csv('getyourguide.csv')\n",
    "instagram_df = pd.read_csv('instagram_final.csv')\n",
    "reddit_df = pd.read_csv('reddit_final.csv')\n",
    "ticketmaster_df = pd.read_csv('ticketmaster_final.csv')\n",
    "tripadvisor_df = pd.read_csv('tripadvisor.csv')\n",
    "tui_df = pd.read_csv('tui_experience.csv')"
   ]
  },
  {
   "cell_type": "code",
   "execution_count": 74,
   "id": "ab471402-e3c9-43af-8a67-13c5e70e78f0",
   "metadata": {},
   "outputs": [
    {
     "name": "stdout",
     "output_type": "stream",
     "text": [
      "Index(['Texto', 'Sentimiento', 'Ciudad', 'Experiencia', 'Fecha', 'Fuente'], dtype='object')\n",
      "Index(['texto', 'ciudad', 'experiencia', 'fuente'], dtype='object')\n",
      "Index(['Texto', 'Sentimiento', 'Ciudad', 'Experiencia', 'Fecha', 'Fuente'], dtype='object')\n",
      "Index(['texto', 'ciudad', 'experiencia', 'fecha', 'fuente'], dtype='object')\n",
      "Index(['texto', 'ciudad', 'experiencia', 'fecha', 'fuente'], dtype='object')\n",
      "Index(['texto', 'ciudad', 'experiencia', 'fecha', 'fuente'], dtype='object')\n",
      "Index(['Texto', 'Ciudad', 'Experiencia', 'Fecha', 'Fuente'], dtype='object')\n",
      "Index(['texto', 'Sentimiento', 'Ciudad', 'experiencia', 'fecha', 'fuente'], dtype='object')\n"
     ]
    }
   ],
   "source": [
    "print(atracciones_df.columns)\n",
    "print(facebook_df.columns)\n",
    "print(getyourguide_df.columns)\n",
    "print(instagram_df.columns)\n",
    "print(reddit_df.columns)\n",
    "print(ticketmaster_df.columns)\n",
    "print(tripadvisor_df.columns)\n",
    "print(tui_df.columns)"
   ]
  },
  {
   "cell_type": "code",
   "execution_count": 75,
   "id": "9dc5ef6f-7213-4259-9493-3f0604e3166b",
   "metadata": {},
   "outputs": [],
   "source": [
    "#booking normalizar\n",
    "atracciones_df = atracciones_df.rename(columns={\n",
    "    \"Sentimiento\": \"Rating\", \"Experiencia\": \"Categoria\",})\n",
    "                                 \n",
    "atracciones_df[\"Sentimiento\"] = None\n",
    "\n",
    "#facebook normalizar\n",
    "facebook_df = facebook_df.rename(columns={\n",
    "    \"texto\": \"Texto\",\n",
    "    \"ciudad\": \"Ciudad\",\n",
    "    \"experiencia\": \"Categoria\",\n",
    "    \"fuente\": \"Fuente\"\n",
    "})\n",
    "facebook_df[\"Rating\"] = None\n",
    "facebook_df[\"Fecha\"] = None\n",
    "facebook_df[\"Sentimiento\"] = None\n",
    "\n",
    "#getyourguide normalizar\n",
    "getyourguide_df = getyourguide_df.rename(columns={\n",
    "    \"Sentimiento\": \"Rating\", \"Experiencia\": \"Categoria\",})\n",
    "\n",
    "getyourguide_df['Sentimiento'] = None\n",
    "\n",
    "#instagram normalizar\n",
    "instagram_df = instagram_df.rename(columns={\n",
    "    \"texto\": \"Texto\",\n",
    "    \"ciudad\": \"Ciudad\",\n",
    "    \"experiencia\": \"Categoria\",\n",
    "    \"fecha\" : 'Fecha',\n",
    "    \"fuente\": \"Fuente\"\n",
    "})\n",
    "\n",
    "instagram_df[\"Rating\"] = None\n",
    "instagram_df[\"Sentimiento\"] = None\n",
    "\n",
    "#reddit normalizar\n",
    "reddit_df = reddit_df.rename(columns={\n",
    "    \"texto\": \"Texto\",\n",
    "    \"ciudad\": \"Ciudad\",\n",
    "    \"experiencia\": \"Categoria\",\n",
    "    \"fecha\" : 'Fecha',\n",
    "    \"fuente\": \"Fuente\"\n",
    "})\n",
    "\n",
    "reddit_df[\"Rating\"] = None\n",
    "reddit_df[\"Sentimiento\"] = None\n",
    "\n",
    "#ticketmaster normalizar\n",
    "\n",
    "ticketmaster_df = ticketmaster_df.rename(columns={\n",
    "    \"texto\": \"Texto\",\n",
    "    \"ciudad\": \"Ciudad\",\n",
    "    \"experiencia\": \"Categoria\",\n",
    "    \"fecha\" : 'Fecha',\n",
    "    \"fuente\": \"Fuente\"\n",
    "})\n",
    "\n",
    "ticketmaster_df[\"Rating\"] = None\n",
    "ticketmaster_df[\"Sentimiento\"] = None\n",
    "\n",
    "#tripadvison normalizar\n",
    "tripadvisor_df = tripadvisor_df.rename(columns={\n",
    "    \"Experiencia\": \"Categoria\",})\n",
    "tripadvisor_df[\"Rating\"] = None\n",
    "tripadvisor_df[\"Sentimiento\"] = None\n",
    "\n",
    "#tui normalizar\n",
    "\n",
    "tui_df = tui_df.rename(columns={\n",
    "    \"Sentimiento\": \"Rating\",\n",
    "    \"experiencia\": \"Categoria\",\n",
    "    \"fecha\" : 'Fecha',\n",
    "    \"fuente\": \"Fuente\",\n",
    "    \"texto\": \"Texto\",\n",
    "})\n",
    "\n",
    "tui_df[\"Sentimiento\"] = None"
   ]
  },
  {
   "cell_type": "code",
   "execution_count": 76,
   "id": "6875427e-e7c4-412f-8096-93477f6b2f7a",
   "metadata": {},
   "outputs": [
    {
     "name": "stdout",
     "output_type": "stream",
     "text": [
      "Index(['Texto', 'Rating', 'Ciudad', 'Categoria', 'Fecha', 'Fuente',\n",
      "       'Sentimiento'],\n",
      "      dtype='object')\n",
      "Index(['Texto', 'Ciudad', 'Categoria', 'Fuente', 'Rating', 'Fecha',\n",
      "       'Sentimiento'],\n",
      "      dtype='object')\n",
      "Index(['Texto', 'Rating', 'Ciudad', 'Categoria', 'Fecha', 'Fuente',\n",
      "       'Sentimiento'],\n",
      "      dtype='object')\n",
      "Index(['Texto', 'Ciudad', 'Categoria', 'Fecha', 'Fuente', 'Rating',\n",
      "       'Sentimiento'],\n",
      "      dtype='object')\n",
      "Index(['Texto', 'Ciudad', 'Categoria', 'Fecha', 'Fuente', 'Rating',\n",
      "       'Sentimiento'],\n",
      "      dtype='object')\n",
      "Index(['Texto', 'Ciudad', 'Categoria', 'Fecha', 'Fuente', 'Rating',\n",
      "       'Sentimiento'],\n",
      "      dtype='object')\n",
      "Index(['Texto', 'Ciudad', 'Categoria', 'Fecha', 'Fuente', 'Rating',\n",
      "       'Sentimiento'],\n",
      "      dtype='object')\n",
      "Index(['Texto', 'Rating', 'Ciudad', 'Categoria', 'Fecha', 'Fuente',\n",
      "       'Sentimiento'],\n",
      "      dtype='object')\n"
     ]
    }
   ],
   "source": [
    "print(atracciones_df.columns)\n",
    "print(facebook_df.columns)\n",
    "print(getyourguide_df.columns)\n",
    "print(instagram_df.columns)\n",
    "print(reddit_df.columns)\n",
    "print(ticketmaster_df.columns)\n",
    "print(tripadvisor_df.columns)\n",
    "print(tui_df.columns)"
   ]
  },
  {
   "cell_type": "code",
   "execution_count": 77,
   "id": "51c2d51b-755e-4f5a-9ab4-2b049238c2ef",
   "metadata": {},
   "outputs": [],
   "source": [
    "maestro = pd.concat([atracciones_df, facebook_df, getyourguide_df, instagram_df, reddit_df, ticketmaster_df, tripadvisor_df, tui_df], ignore_index=True)"
   ]
  },
  {
   "cell_type": "code",
   "execution_count": 78,
   "id": "5247daa8-e13b-415a-b39a-7cc91f571ed9",
   "metadata": {},
   "outputs": [
    {
     "data": {
      "text/html": [
       "<div>\n",
       "<style scoped>\n",
       "    .dataframe tbody tr th:only-of-type {\n",
       "        vertical-align: middle;\n",
       "    }\n",
       "\n",
       "    .dataframe tbody tr th {\n",
       "        vertical-align: top;\n",
       "    }\n",
       "\n",
       "    .dataframe thead th {\n",
       "        text-align: right;\n",
       "    }\n",
       "</style>\n",
       "<table border=\"1\" class=\"dataframe\">\n",
       "  <thead>\n",
       "    <tr style=\"text-align: right;\">\n",
       "      <th></th>\n",
       "      <th>Texto</th>\n",
       "      <th>Rating</th>\n",
       "      <th>Ciudad</th>\n",
       "      <th>Categoria</th>\n",
       "      <th>Fecha</th>\n",
       "      <th>Fuente</th>\n",
       "      <th>Sentimiento</th>\n",
       "    </tr>\n",
       "  </thead>\n",
       "  <tbody>\n",
       "    <tr>\n",
       "      <th>0</th>\n",
       "      <td>É stato veloce, arrivati e passati subito. Con...</td>\n",
       "      <td>Bueno</td>\n",
       "      <td>Barcelona</td>\n",
       "      <td>Tour</td>\n",
       "      <td>2025-07-18</td>\n",
       "      <td>Booking</td>\n",
       "      <td>None</td>\n",
       "    </tr>\n",
       "    <tr>\n",
       "      <th>1</th>\n",
       "      <td>Fantastisk oplevelse og det gik enormt hurtigt...</td>\n",
       "      <td>Bueno</td>\n",
       "      <td>Barcelona</td>\n",
       "      <td>Tour</td>\n",
       "      <td>2025-07-17</td>\n",
       "      <td>Booking</td>\n",
       "      <td>None</td>\n",
       "    </tr>\n",
       "    <tr>\n",
       "      <th>2</th>\n",
       "      <td>La Sagrada Familia is a \"must\" in terms of par...</td>\n",
       "      <td>Bueno</td>\n",
       "      <td>Barcelona</td>\n",
       "      <td>Tour</td>\n",
       "      <td>2025-07-17</td>\n",
       "      <td>Booking</td>\n",
       "      <td>None</td>\n",
       "    </tr>\n",
       "    <tr>\n",
       "      <th>3</th>\n",
       "      <td>Nous sommes arrivés en retard et le monsieur à...</td>\n",
       "      <td>Bueno</td>\n",
       "      <td>Barcelona</td>\n",
       "      <td>Playa</td>\n",
       "      <td>2025-07-17</td>\n",
       "      <td>Booking</td>\n",
       "      <td>None</td>\n",
       "    </tr>\n",
       "    <tr>\n",
       "      <th>4</th>\n",
       "      <td>j’ai choisi d’y aller vers 15h un mardi, il y ...</td>\n",
       "      <td>Bueno</td>\n",
       "      <td>Barcelona</td>\n",
       "      <td>Playa</td>\n",
       "      <td>2025-07-17</td>\n",
       "      <td>Booking</td>\n",
       "      <td>None</td>\n",
       "    </tr>\n",
       "  </tbody>\n",
       "</table>\n",
       "</div>"
      ],
      "text/plain": [
       "                                               Texto Rating     Ciudad  \\\n",
       "0  É stato veloce, arrivati e passati subito. Con...  Bueno  Barcelona   \n",
       "1  Fantastisk oplevelse og det gik enormt hurtigt...  Bueno  Barcelona   \n",
       "2  La Sagrada Familia is a \"must\" in terms of par...  Bueno  Barcelona   \n",
       "3  Nous sommes arrivés en retard et le monsieur à...  Bueno  Barcelona   \n",
       "4  j’ai choisi d’y aller vers 15h un mardi, il y ...  Bueno  Barcelona   \n",
       "\n",
       "  Categoria       Fecha   Fuente Sentimiento  \n",
       "0      Tour  2025-07-18  Booking        None  \n",
       "1      Tour  2025-07-17  Booking        None  \n",
       "2      Tour  2025-07-17  Booking        None  \n",
       "3     Playa  2025-07-17  Booking        None  \n",
       "4     Playa  2025-07-17  Booking        None  "
      ]
     },
     "execution_count": 78,
     "metadata": {},
     "output_type": "execute_result"
    }
   ],
   "source": [
    "maestro.head()"
   ]
  },
  {
   "cell_type": "code",
   "execution_count": 85,
   "id": "551d5654-03e3-4c97-97dc-51db8f43b25c",
   "metadata": {},
   "outputs": [],
   "source": [
    "maestro.to_csv(\"dataset_maestro.csv\", index=False)"
   ]
  },
  {
   "cell_type": "code",
   "execution_count": null,
   "id": "7a4a2e6e-6a01-4859-8f66-f5e7e3463389",
   "metadata": {},
   "outputs": [],
   "source": []
  }
 ],
 "metadata": {
  "kernelspec": {
   "display_name": "Python 3 (ipykernel)",
   "language": "python",
   "name": "python3"
  },
  "language_info": {
   "codemirror_mode": {
    "name": "ipython",
    "version": 3
   },
   "file_extension": ".py",
   "mimetype": "text/x-python",
   "name": "python",
   "nbconvert_exporter": "python",
   "pygments_lexer": "ipython3",
   "version": "3.11.7"
  },
  "widgets": {
   "application/vnd.jupyter.widget-state+json": {
    "state": {},
    "version_major": 2,
    "version_minor": 0
   }
  }
 },
 "nbformat": 4,
 "nbformat_minor": 5
}
