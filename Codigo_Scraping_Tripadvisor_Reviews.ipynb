{
 "cells": [
  {
   "cell_type": "code",
   "execution_count": null,
   "id": "d2e44e56-443d-4d1a-b496-b662555c4c34",
   "metadata": {},
   "outputs": [],
   "source": []
  },
  {
   "cell_type": "markdown",
   "id": "e1f7bf87-b9f7-43a2-b9c1-806745d4aff6",
   "metadata": {},
   "source": [
    "## 🧰 Librerías e importaciones"
   ]
  },
  {
   "cell_type": "code",
   "execution_count": null,
   "id": "d1cb3051-65a5-46d2-b274-9e3471678d0f",
   "metadata": {},
   "outputs": [],
   "source": [
    "import re\n",
    "import time\n",
    "import pandas as pd\n",
    "import dateparser\n",
    "from selenium import webdriver\n",
    "from selenium.webdriver.chrome.service import Service\n",
    "from selenium.webdriver.common.by import By\n",
    "from selenium.webdriver.chrome.options import Options\n",
    "from selenium.webdriver.support.ui import WebDriverWait\n",
    "from selenium.webdriver.support import expected_conditions as EC\n",
    "from selenium.common.exceptions import StaleElementReferenceException\n",
    "from webdriver_manager.chrome import ChromeDriverManager"
   ]
  },
  {
   "cell_type": "markdown",
   "id": "d6aa7963-545e-4249-a72e-3ac5d2ba5ae2",
   "metadata": {},
   "source": [
    "## 💻 Iniciar sesión del navegador"
   ]
  },
  {
   "cell_type": "code",
   "execution_count": null,
   "id": "c01f7962-16f7-4619-84c3-353ecb0da923",
   "metadata": {},
   "outputs": [],
   "source": [
    "options = Options()\n",
    "options.add_argument(\"--start-maximized\")\n",
    "driver = webdriver.Chrome(service=Service(ChromeDriverManager().install()), options=options)"
   ]
  },
  {
   "cell_type": "code",
   "execution_count": null,
   "id": "4b6b38e5-b4cf-4bb0-8cd3-ff91710c5f5f",
   "metadata": {},
   "outputs": [],
   "source": [
    "df = pd.read_csv(\"experiencias_tripadvisor_mallorca_limpio.csv\")  # CSV con columna \"enlace_experiencia\"\n",
    "comentarios_df = pd.DataFrame(columns=[\n",
    "    \"titulo\", \"usuario\", \"pais\", \"comentario\", \"fecha\", \"categoria\", \"review_score\"\n",
    "])\n"
   ]
  },
  {
   "cell_type": "markdown",
   "id": "72515518-a663-424e-95e2-b092c1254d83",
   "metadata": {},
   "source": [
    "## 🧩 Funciones auxiliares"
   ]
  },
  {
   "cell_type": "code",
   "execution_count": null,
   "id": "2ad8e531-0698-4f88-8fb6-05f213c6afd0",
   "metadata": {},
   "outputs": [],
   "source": [
    "def extract_comment(card):\n",
    "    try:\n",
    "        return card.find_element(By.CSS_SELECTOR, 'div.biGQs._P.pZUbB.AWdfh').text.strip()\n",
    "    except:\n",
    "        return \"\"\n",
    "\n",
    "def extract_user(card):\n",
    "    try:\n",
    "        return card.find_element(By.CSS_SELECTOR, 'span.biGQs._P.ezezH a').text.strip()\n",
    "    except:\n",
    "        return \"\"\n",
    "\n",
    "def extract_country(card):\n",
    "    try:\n",
    "        country_div = card.find_elements(By.CSS_SELECTOR, 'div.vYLts div.biGQs._P.navcl')\n",
    "        if country_div and len(country_div) > 1:\n",
    "            return country_div[1].text.strip()\n",
    "        elif country_div:\n",
    "            return country_div[0].text.strip()\n",
    "    except:\n",
    "        pass\n",
    "    return \"\"\n",
    "\n",
    "\n",
    "def extract_score(card):\n",
    "    try:\n",
    "        svg = card.find_element(By.CSS_SELECTOR, 'svg[data-automation=\"bubbleRatingImage\"]')\n",
    "        title_tag = svg.find_element(By.TAG_NAME, 'title')\n",
    "        score_text = title_tag.get_attribute(\"innerText\")  # ejemplo: \"5 of 5 bubbles\"\n",
    "        m = re.search(r'(\\d+)\\s*of\\s*5', score_text)\n",
    "        if m:\n",
    "            return int(m.group(1))\n",
    "    except:\n",
    "        pass\n",
    "    return None\n",
    "\n",
    "def extract_date_and_categoria(card):\n",
    "    try:\n",
    "        fecha_div = card.find_element(By.CSS_SELECTOR, 'div.RpeCd').text.strip()\n",
    "        if '•' in fecha_div:\n",
    "            fecha_raw, categoria_raw = map(str.strip, fecha_div.split('•'))\n",
    "        else:\n",
    "            fecha_raw = fecha_div\n",
    "            categoria_raw = \"\"\n",
    "        fecha_dt = dateparser.parse(fecha_raw, languages=['es','en'])\n",
    "        fecha = fecha_dt.strftime('%Y-%m-%d') if fecha_dt else \"\"\n",
    "        return fecha, categoria_raw\n",
    "    except:\n",
    "        return \"\", \"\"\n",
    "\n",
    "def parse_review(card, titulo_experiencia):\n",
    "    fecha, categoria = extract_date_and_categoria(card)\n",
    "    return {\n",
    "        \"titulo\": titulo_experiencia,\n",
    "        \"usuario\": extract_user(card),\n",
    "        \"pais\": extract_country(card),\n",
    "        \"comentario\": extract_comment(card),\n",
    "        \"fecha\": fecha,\n",
    "        \"categoria\": categoria,\n",
    "        \"review_score\": extract_score(card)\n",
    "    }\n",
    "\n",
    "\n",
    "def click_ver_todos():\n",
    "    try:\n",
    "        btn = driver.find_elements(By.XPATH, '//a[contains(text(), \"Ver todos los comentarios\") or contains(text(), \"See all reviews\")]')\n",
    "        if btn:\n",
    "            driver.execute_script(\"arguments[0].scrollIntoView({block:'center'});\", btn[0])\n",
    "            time.sleep(1.5)\n",
    "            btn[0].click()\n",
    "            time.sleep(2)\n",
    "            return True\n",
    "    except:\n",
    "        pass\n",
    "    return False\n",
    "\n",
    "def click_next_page():\n",
    "    try:\n",
    "        next_btn = driver.find_element(By.CSS_SELECTOR, 'div.HXmEd a[data-smoke-attr=\"pagination-next-arrow\"]')\n",
    "        driver.execute_script(\"arguments[0].scrollIntoView({block:'center'});\", next_btn)\n",
    "        time.sleep(1.5)\n",
    "        next_btn.click()\n",
    "        time.sleep(2)\n",
    "        return True\n",
    "    except:\n",
    "        return False\n"
   ]
  },
  {
   "cell_type": "markdown",
   "id": "3f9bdc65-cb0a-436c-9424-11ab783a9a7d",
   "metadata": {},
   "source": [
    "## 🔎 Scrapping"
   ]
  },
  {
   "cell_type": "code",
   "execution_count": null,
   "id": "b2b270ea-b1af-42d1-bf8a-eb77c965ebd9",
   "metadata": {},
   "outputs": [],
   "source": [
    "def scrapear_experiencia(url):\n",
    "    driver.get(url)\n",
    "    time.sleep(3)\n",
    "    \n",
    "    # Cerrar cookies\n",
    "    try:\n",
    "        WebDriverWait(driver, 3).until(\n",
    "            EC.element_to_be_clickable((By.ID, \"onetrust-accept-btn-handler\"))\n",
    "        ).click()\n",
    "    except:\n",
    "        pass\n",
    "    \n",
    "    # Click \"Ver todos los comentarios\"\n",
    "    click_ver_todos()\n",
    "    \n",
    "    # Título de la experiencia\n",
    "    try:\n",
    "        titulo = driver.find_element(By.CSS_SELECTOR, 'h1[data-automation=\"mainH1\"]').text.strip()\n",
    "    except:\n",
    "        titulo = \"Sin título\"\n",
    "    \n",
    "    comentarios = []\n",
    "    \n",
    "    while True:\n",
    "        # Scroll lento para cargar tarjetas\n",
    "        driver.execute_script(\"window.scrollBy(0, 500);\")\n",
    "        time.sleep(1)\n",
    "        \n",
    "        cards = driver.find_elements(By.CSS_SELECTOR, 'div._c[data-automation=\"reviewCard\"]')\n",
    "        if not cards:\n",
    "            break\n",
    "        for card in cards:\n",
    "            try:\n",
    "                data = parse_review(card, titulo)\n",
    "                comentarios.append(data)\n",
    "            except StaleElementReferenceException:\n",
    "                continue\n",
    "        if not click_next_page():\n",
    "            break\n",
    "    return comentarios\n",
    "\n",
    "for idx, row in df.iterrows():\n",
    "    url = row[\"enlace_experiencia\"]\n",
    "    print(f\"Procesando {idx+1}/{len(df)}: {url}\")\n",
    "    resultados = scrapear_experiencia(url)\n",
    "    if resultados:\n",
    "        comentarios_df = pd.concat([comentarios_df, pd.DataFrame(resultados)], ignore_index=True)\n",
    "    time.sleep(1)\n"
   ]
  },
  {
   "cell_type": "markdown",
   "id": "8d06965b-6345-455d-a35e-2faf434d9c1a",
   "metadata": {},
   "source": [
    "## 💾 Guardar CSV final"
   ]
  },
  {
   "cell_type": "code",
   "execution_count": null,
   "id": "50a9a0eb-9f9e-4f0a-bef0-10fd64521bb0",
   "metadata": {},
   "outputs": [],
   "source": [
    "comentarios_df[\"review_score\"] = pd.to_numeric(comentarios_df[\"review_score\"], errors=\"coerce\")\n",
    "comentarios_df.to_csv(\"trip_reviews_mallorca.csv\", index=False)\n",
    "print(\"Archivo guardado: trip_reviews_valencia.csv\")\n",
    "\n",
    "driver.quit()"
   ]
  }
 ],
 "metadata": {
  "kernelspec": {
   "display_name": "Python 3 (ipykernel)",
   "language": "python",
   "name": "python3"
  },
  "language_info": {
   "codemirror_mode": {
    "name": "ipython",
    "version": 3
   },
   "file_extension": ".py",
   "mimetype": "text/x-python",
   "name": "python",
   "nbconvert_exporter": "python",
   "pygments_lexer": "ipython3",
   "version": "3.12.2"
  }
 },
 "nbformat": 4,
 "nbformat_minor": 5
}
