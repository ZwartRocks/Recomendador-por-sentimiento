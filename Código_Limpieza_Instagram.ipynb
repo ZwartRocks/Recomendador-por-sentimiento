{
 "cells": [
  {
   "cell_type": "markdown",
   "id": "3cdc909e",
   "metadata": {},
   "source": [
    "# 📘 Limpieza Instagram "
   ]
  },
  {
   "cell_type": "markdown",
   "id": "134c48b8",
   "metadata": {},
   "source": [
    "## 🧰 Librerías e importaciones\n",
    "- Importa: pandas, re."
   ]
  },
  {
   "cell_type": "code",
   "execution_count": 1,
   "id": "1117ad2b-f70e-42ba-9b48-9ce1878eb009",
   "metadata": {},
   "outputs": [],
   "source": [
    "import re\n",
    "import json\n",
    "import emoji\n",
    "import pandas as pd\n",
    "from langdetect import detect, DetectorFactory"
   ]
  },
  {
   "cell_type": "code",
   "execution_count": 3,
   "id": "1b8b6a70-0079-4ff8-ada7-0219b2f8dd17",
   "metadata": {},
   "outputs": [],
   "source": [
    "DetectorFactory.seed = 0"
   ]
  },
  {
   "cell_type": "markdown",
   "id": "d1defa29",
   "metadata": {},
   "source": [
    "## 🧼 Limpieza de texto\n",
    "- Quita URLs del texto.\n",
    "- Gestiona menciones/hashtags (#, @)."
   ]
  },
  {
   "cell_type": "code",
   "execution_count": 5,
   "id": "853843a2-ae8e-4a0f-a99e-5de940729d28",
   "metadata": {},
   "outputs": [],
   "source": [
    "def limpiar_texto(texto):\n",
    "    texto = texto.lower()\n",
    "    texto = emoji.demojize(texto, language=\"es\")\n",
    "    texto = texto.replace(\":\", \"\").replace(\"_\", \" \")\n",
    "    texto = re.sub(r\"http\\S+|www\\S+|https\\S+\", \"\", texto)  # URLs\n",
    "    texto = re.sub(r\"[@#]\", \"\", texto)  # elimina solo @ y #\n",
    "    texto = re.sub(r\"\\S+@\\S+\\.\\S+\", \"\", texto)  # correos\n",
    "    texto = re.sub(r\"\\(.*?\\)|\\[.*?\\]|\\{.*?\\}\", \"\", texto)  # paréntesis\n",
    "    texto = re.sub(r\"\\d+\", \"\", texto)  # números\n",
    "    texto = re.sub(r\"[^a-záéíóúüñ\\s]\", \"\", texto)  # caracteres raros\n",
    "    texto = re.sub(r\"\\s+\", \" \", texto).strip()\n",
    "    return texto"
   ]
  },
  {
   "cell_type": "markdown",
   "id": "f6fb7ae1",
   "metadata": {},
   "source": [
    "## 📥 Carga de datos\n",
    "- Lee dataset: Tenerife_instagram_posts_20250829.json."
   ]
  },
  {
   "cell_type": "code",
   "execution_count": 7,
   "id": "0fd30527-be73-407c-b1a1-a7742b38c384",
   "metadata": {},
   "outputs": [],
   "source": [
    "with open(\"Tenerife_instagram_posts_20250829.json\", \"r\", encoding=\"utf-8\") as f:\n",
    "    data = json.load(f)"
   ]
  },
  {
   "cell_type": "markdown",
   "id": "4204c1aa",
   "metadata": {},
   "source": [
    "## 🧪 Bloque de código\n",
    "- Operaciones varias sobre el DataFrame, creacción de diccionario."
   ]
  },
  {
   "cell_type": "code",
   "execution_count": 9,
   "id": "f1cc953f-9e0e-4c71-bbd5-5d8adb1faf2d",
   "metadata": {},
   "outputs": [],
   "source": [
    "keywords = {\n",
    "    \"es\": {\n",
    "        \"hotel\": [\"hotel\", \"hostal\"],\n",
    "        \"playa\": [\"playa\"],\n",
    "        \"tour\": [\"tour\", \"excursión\"],\n",
    "        \"deporte\": [\"deporte\", \"deportes\"],\n",
    "        \"cultura\": [\"cultura\"],\n",
    "        \"comida\": [\"comida\", \"restaurante\", \"platos\", \"platillos\", \"comer\"],\n",
    "        \"museo\": [\"museo\"],\n",
    "        \"atracciones\": [\"atracciones\", \"actividades\"]\n",
    "    },\n",
    "    \"en\": {\n",
    "        \"hotel\": [\"hotel\", \"hostel\"],\n",
    "        \"playa\": [\"beach\"],\n",
    "        \"tour\": [\"tour\", \"excursion\"],\n",
    "        \"deporte\": [\"sports\", \"sport\"],\n",
    "        \"cultura\": [\"culture\"],\n",
    "        \"comida\": [\"food\", \"restaurant\", \"dishes\", \"saucers\", \"eat\"],\n",
    "        \"museo\": [\"museum\"],\n",
    "        \"attractions\": [\"attractions\", \"activities\"]\n",
    "    },\n",
    "    \"fr\": {\n",
    "        \"hotel\": [\"hôtel\", \"auberge\"],\n",
    "        \"playa\": [\"plage\"],\n",
    "        \"tour\": [\"visite\", \"excursion\"],\n",
    "        \"deporte\": [\"sport\", \"sports\"],\n",
    "        \"cultura\": [\"culture\", \"culturel\"],\n",
    "        \"comida\": [\"nourriture\", \"repas\", \"restaurant\", \"plats\", \"soucoupes\", \"manger\"],\n",
    "        \"museo\": [\"musée\"],\n",
    "        \"attractions\": [\"attractions\", \"activités\" ]\n",
    "    },\n",
    "    \"it\": {\n",
    "        \"hotel\": [\"hotel\", \"ostello\"],\n",
    "        \"playa\": [\"spiaggia\"],\n",
    "        \"tour\": [\"tour\", \"escursione\", \"giro\"],\n",
    "        \"deporte\": [\"sport\", \"attività sportiva\"],\n",
    "        \"cultura\": [\"cultura\", \"culturale\"],\n",
    "        \"comida\": [\"cibo\", \"ristorante\", \"pasto\", \"piatti\", \"piattini\", \"mangiare\"],\n",
    "        \"museo\": [\"museo\", \"galleria\"],\n",
    "        \"attrazioni\": [\"attrazioni\", \"attività\"]\n",
    "    }\n",
    "}"
   ]
  },
  {
   "cell_type": "markdown",
   "id": "0e2729b3",
   "metadata": {},
   "source": [
    "## 🛠️ Helpers / funciones auxiliares\n",
    "- Define funciones reutilizables para la limpieza."
   ]
  },
  {
   "cell_type": "code",
   "execution_count": 11,
   "id": "f381b22e-593c-41f1-8556-363827a5fbea",
   "metadata": {},
   "outputs": [],
   "source": [
    "def asignar_categoria(texto):\n",
    "    try:\n",
    "        idioma = detect(texto)\n",
    "    except:\n",
    "        idioma = \"unknown\"\n",
    "    \n",
    "    if idioma not in keywords:\n",
    "        return \"Desconocido\", idioma\n",
    "    \n",
    "    for categoria, palabras in keywords[idioma].items():\n",
    "        for palabra in palabras:\n",
    "            if palabra in texto:\n",
    "                return categoria.capitalize(), idioma\n",
    "    return \"Desconocido\", idioma"
   ]
  },
  {
   "cell_type": "code",
   "execution_count": 13,
   "id": "ccd78673-e365-4983-874f-53e4a20405c7",
   "metadata": {},
   "outputs": [],
   "source": [
    "rows = []\n",
    "for post in data:\n",
    "    comentario = \"\"\n",
    "    if \"titulo\" in post and post[\"titulo\"]:\n",
    "        comentario += post[\"titulo\"] + \" \"\n",
    "    if \"texto\" in post and post[\"texto\"]:\n",
    "        comentario += post[\"texto\"]\n",
    "\n",
    "    comentario_limpio = limpiar_texto(comentario)\n",
    "    categoria, idioma = asignar_categoria(comentario_limpio)\n",
    "\n",
    "    # Armar fila\n",
    "    rows.append({\n",
    "        \"texto\": comentario_limpio,\n",
    "        \"ciudad\": post.get(\"ciudad\", \"\"),\n",
    "        \"experiencia\": categoria,   # dejar en blanco\n",
    "        \"fecha\": post.get(\"fecha\", \"\"),\n",
    "        \"fuente\": \"Instagram\"\n",
    "    })"
   ]
  },
  {
   "cell_type": "code",
   "execution_count": 14,
   "id": "9f0f57ea-d81c-438f-b054-544a880dba45",
   "metadata": {},
   "outputs": [],
   "source": [
    "df = pd.DataFrame(rows)"
   ]
  },
  {
   "cell_type": "markdown",
   "id": "e0d1b32d",
   "metadata": {},
   "source": [
    "## ⏱️ Parseo/normalización de fechas\n",
    "- Convierte columnas de fecha a formato datetime y ajusta formato."
   ]
  },
  {
   "cell_type": "code",
   "execution_count": 15,
   "id": "9ea5a11f-dc0e-4b3b-82fc-96d62a05fb84",
   "metadata": {},
   "outputs": [],
   "source": [
    "df[\"fecha\"] = pd.to_datetime(df[\"fecha\"], errors=\"coerce\").dt.date"
   ]
  },
  {
   "cell_type": "markdown",
   "id": "96dd8d53",
   "metadata": {},
   "source": [
    "## 🧪 Muestra DF"
   ]
  },
  {
   "cell_type": "code",
   "execution_count": 16,
   "id": "d0f8e738-9ea8-4b28-a83b-8ce5051aebb8",
   "metadata": {
    "scrolled": true
   },
   "outputs": [
    {
     "data": {
      "text/html": [
       "<div>\n",
       "<style scoped>\n",
       "    .dataframe tbody tr th:only-of-type {\n",
       "        vertical-align: middle;\n",
       "    }\n",
       "\n",
       "    .dataframe tbody tr th {\n",
       "        vertical-align: top;\n",
       "    }\n",
       "\n",
       "    .dataframe thead th {\n",
       "        text-align: right;\n",
       "    }\n",
       "</style>\n",
       "<table border=\"1\" class=\"dataframe\">\n",
       "  <thead>\n",
       "    <tr style=\"text-align: right;\">\n",
       "      <th></th>\n",
       "      <th>texto</th>\n",
       "      <th>ciudad</th>\n",
       "      <th>experiencia</th>\n",
       "      <th>fecha</th>\n",
       "      <th>fuente</th>\n",
       "    </tr>\n",
       "  </thead>\n",
       "  <tbody>\n",
       "    <tr>\n",
       "      <th>0</th>\n",
       "      <td>loroparque tenerife tenerifeturismo delfines</td>\n",
       "      <td>Tenerife</td>\n",
       "      <td>Desconocido</td>\n",
       "      <td>2022-05-02</td>\n",
       "      <td>Instagram</td>\n",
       "    </tr>\n",
       "    <tr>\n",
       "      <th>2</th>\n",
       "      <td>el casco histórico de la orotava conserva su e...</td>\n",
       "      <td>Tenerife</td>\n",
       "      <td>Desconocido</td>\n",
       "      <td>2021-05-02</td>\n",
       "      <td>Instagram</td>\n",
       "    </tr>\n",
       "    <tr>\n",
       "      <th>4</th>\n",
       "      <td>cuando los sentimientos esos que nos hacen vul...</td>\n",
       "      <td>Tenerife</td>\n",
       "      <td>Desconocido</td>\n",
       "      <td>2022-04-04</td>\n",
       "      <td>Instagram</td>\n",
       "    </tr>\n",
       "    <tr>\n",
       "      <th>6</th>\n",
       "      <td>nuestros antiguos aborígenes corazón negro can...</td>\n",
       "      <td>Tenerife</td>\n",
       "      <td>Desconocido</td>\n",
       "      <td>2020-05-04</td>\n",
       "      <td>Instagram</td>\n",
       "    </tr>\n",
       "    <tr>\n",
       "      <th>7</th>\n",
       "      <td>taller de iniciación al salto del pastor para ...</td>\n",
       "      <td>Tenerife</td>\n",
       "      <td>Desconocido</td>\n",
       "      <td>2021-09-13</td>\n",
       "      <td>Instagram</td>\n",
       "    </tr>\n",
       "    <tr>\n",
       "      <th>...</th>\n",
       "      <td>...</td>\n",
       "      <td>...</td>\n",
       "      <td>...</td>\n",
       "      <td>...</td>\n",
       "      <td>...</td>\n",
       "    </tr>\n",
       "    <tr>\n",
       "      <th>412</th>\n",
       "      <td>la caleta a beautiful spot in tenerifechispas ...</td>\n",
       "      <td>Tenerife</td>\n",
       "      <td>Desconocido</td>\n",
       "      <td>2021-05-28</td>\n",
       "      <td>Instagram</td>\n",
       "    </tr>\n",
       "    <tr>\n",
       "      <th>413</th>\n",
       "      <td>clásicos atemporales corazón negrocorazón negr...</td>\n",
       "      <td>Tenerife</td>\n",
       "      <td>Desconocido</td>\n",
       "      <td>2021-06-18</td>\n",
       "      <td>Instagram</td>\n",
       "    </tr>\n",
       "    <tr>\n",
       "      <th>414</th>\n",
       "      <td>dedo índice hacia arribacara guiñando el ojo g...</td>\n",
       "      <td>Tenerife</td>\n",
       "      <td>Desconocido</td>\n",
       "      <td>2023-04-02</td>\n",
       "      <td>Instagram</td>\n",
       "    </tr>\n",
       "    <tr>\n",
       "      <th>416</th>\n",
       "      <td>when he makes you mad whattodo lifehacks teide...</td>\n",
       "      <td>Tenerife</td>\n",
       "      <td>Desconocido</td>\n",
       "      <td>2018-11-14</td>\n",
       "      <td>Instagram</td>\n",
       "    </tr>\n",
       "    <tr>\n",
       "      <th>417</th>\n",
       "      <td>en utrolig fin uke er over vi venter og venter...</td>\n",
       "      <td>Tenerife</td>\n",
       "      <td>Desconocido</td>\n",
       "      <td>2014-04-27</td>\n",
       "      <td>Instagram</td>\n",
       "    </tr>\n",
       "  </tbody>\n",
       "</table>\n",
       "<p>186 rows × 5 columns</p>\n",
       "</div>"
      ],
      "text/plain": [
       "                                                 texto    ciudad  experiencia  \\\n",
       "0         loroparque tenerife tenerifeturismo delfines  Tenerife  Desconocido   \n",
       "2    el casco histórico de la orotava conserva su e...  Tenerife  Desconocido   \n",
       "4    cuando los sentimientos esos que nos hacen vul...  Tenerife  Desconocido   \n",
       "6    nuestros antiguos aborígenes corazón negro can...  Tenerife  Desconocido   \n",
       "7    taller de iniciación al salto del pastor para ...  Tenerife  Desconocido   \n",
       "..                                                 ...       ...          ...   \n",
       "412  la caleta a beautiful spot in tenerifechispas ...  Tenerife  Desconocido   \n",
       "413  clásicos atemporales corazón negrocorazón negr...  Tenerife  Desconocido   \n",
       "414  dedo índice hacia arribacara guiñando el ojo g...  Tenerife  Desconocido   \n",
       "416  when he makes you mad whattodo lifehacks teide...  Tenerife  Desconocido   \n",
       "417  en utrolig fin uke er over vi venter og venter...  Tenerife  Desconocido   \n",
       "\n",
       "          fecha     fuente  \n",
       "0    2022-05-02  Instagram  \n",
       "2    2021-05-02  Instagram  \n",
       "4    2022-04-04  Instagram  \n",
       "6    2020-05-04  Instagram  \n",
       "7    2021-09-13  Instagram  \n",
       "..          ...        ...  \n",
       "412  2021-05-28  Instagram  \n",
       "413  2021-06-18  Instagram  \n",
       "414  2023-04-02  Instagram  \n",
       "416  2018-11-14  Instagram  \n",
       "417  2014-04-27  Instagram  \n",
       "\n",
       "[186 rows x 5 columns]"
      ]
     },
     "execution_count": 16,
     "metadata": {},
     "output_type": "execute_result"
    }
   ],
   "source": [
    "df[df['experiencia'] == \"Desconocido\"]"
   ]
  },
  {
   "cell_type": "markdown",
   "id": "6bd5dcb3",
   "metadata": {},
   "source": [
    "## 💾 Guardado de resultados\n",
    "- Exporta a: Tenerife_limpios.csv."
   ]
  },
  {
   "cell_type": "code",
   "execution_count": 21,
   "id": "9c42d8c2-a855-412b-9012-152591420de6",
   "metadata": {},
   "outputs": [],
   "source": [
    "df.to_csv(\"Tenerife_limpios.csv\", index=False, encoding=\"utf-8\")"
   ]
  },
  {
   "cell_type": "code",
   "execution_count": null,
   "id": "c4f329fc-ffac-4216-96fb-0ae4a83d84bc",
   "metadata": {},
   "outputs": [],
   "source": []
  }
 ],
 "metadata": {
  "kernelspec": {
   "display_name": "Python 3 (ipykernel)",
   "language": "python",
   "name": "python3"
  },
  "language_info": {
   "codemirror_mode": {
    "name": "ipython",
    "version": 3
   },
   "file_extension": ".py",
   "mimetype": "text/x-python",
   "name": "python",
   "nbconvert_exporter": "python",
   "pygments_lexer": "ipython3",
   "version": "3.12.2"
  }
 },
 "nbformat": 4,
 "nbformat_minor": 5
}
