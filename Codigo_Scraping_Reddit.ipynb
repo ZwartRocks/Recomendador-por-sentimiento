{
 "cells": [
  {
   "cell_type": "markdown",
   "id": "53bb1156",
   "metadata": {},
   "source": [
    "# 📘 Reddit — *títulos y explicaciones por celda*\n",
    "_Tu lógica se mantiene intacta; solo añadí encabezados y una breve explicación antes de cada celda de código._"
   ]
  },
  {
   "cell_type": "markdown",
   "id": "1f4046d2",
   "metadata": {},
   "source": [
    "## 📦 Dependencias\n",
    "- Importa librerías requeridas. Incluye: praw."
   ]
  },
  {
   "cell_type": "code",
   "execution_count": null,
   "id": "22a972ae-0b5d-4bd1-a86c-cf4b4122393e",
   "metadata": {
    "id": "22a972ae-0b5d-4bd1-a86c-cf4b4122393e"
   },
   "outputs": [],
   "source": [
    "import praw"
   ]
  },
  {
   "cell_type": "markdown",
   "id": "1ced6a98",
   "metadata": {},
   "source": [
    "## 📦 Dependencias\n",
    "- Importa librerías requeridas. Incluye: datetime."
   ]
  },
  {
   "cell_type": "code",
   "execution_count": null,
   "id": "44d31f0c-bda3-4c09-ae84-94dd404ac4d3",
   "metadata": {
    "id": "44d31f0c-bda3-4c09-ae84-94dd404ac4d3"
   },
   "outputs": [],
   "source": [
    "from datetime import datetime\n",
    "import json\n",
    "from langdetect import detect"
   ]
  },
  {
   "cell_type": "markdown",
   "id": "fd8473c1",
   "metadata": {},
   "source": [
    "## 🔑 Autenticación y sesión de Reddit (PRAW)\n",
    "- Configura `Reddit(client_id, client_secret, user_agent)` para acceder a la API."
   ]
  },
  {
   "cell_type": "code",
   "execution_count": null,
   "id": "d397b108-6bd6-4481-9929-03819a34c248",
   "metadata": {
    "id": "d397b108-6bd6-4481-9929-03819a34c248"
   },
   "outputs": [],
   "source": [
    "reddit = praw.Reddit(\n",
    "    client_id=\"0HAMZIgeCyxEjt61rbilyA\",\n",
    "    client_secret=\"iL6VAggmYaMq7AR0T6n94opTJx8sNQ\",\n",
    "    user_agent=\"Turismo1675\"\n",
    ")"
   ]
  },
  {
   "cell_type": "markdown",
   "id": "173d7ea0",
   "metadata": {},
   "source": [
    "## 🧪 Bloque de código\n",
    "- Ejecución/operaciones auxiliares del flujo."
   ]
  },
  {
   "cell_type": "code",
   "execution_count": null,
   "id": "ec77fb23-5449-493f-b95d-51ee9d7df554",
   "metadata": {
    "id": "ec77fb23-5449-493f-b95d-51ee9d7df554"
   },
   "outputs": [],
   "source": [
    "ciudades = ['Tenerife', 'Barcelona', 'Madrid', 'Malaga', 'Gran Canaria', 'Seville', 'Valencia', 'Palma de Mallorca']\n",
    "palabras_clave = ['turismo', 'atracciones', 'qué hacer', 'hoteles', 'viaje', 'lugares turísticos', 'vacaciones', 'tourism', 'things to do', 'attractions', 'hotels']"
   ]
  },
  {
   "cell_type": "markdown",
   "id": "93f63cf0",
   "metadata": {},
   "source": [
    "## 🧭 Parámetros de búsqueda (subreddit/consulta/fechas)\n",
    "- Define el subreddit objetivo.\n",
    "- Establece términos de búsqueda/filtrado.\n",
    "- Controla el número de posts/comentarios a recuperar.\n",
    "- Ventana temporal para la consulta."
   ]
  },
  {
   "cell_type": "code",
   "execution_count": null,
   "id": "2d0a2fdf-8068-4779-a5f4-ff5aa4a63b38",
   "metadata": {
    "id": "2d0a2fdf-8068-4779-a5f4-ff5aa4a63b38"
   },
   "outputs": [],
   "source": [
    "  def buscar_posts_reddit(ciudad, keyword, max_posts=200):\n",
    "      query = f\"{ciudad} {keyword}\"\n",
    "      print(f\"Buscando: {query}\")\n",
    "      resultados = []\n",
    "\n",
    "      for post in reddit.subreddit(\"all\").search(query, sort=\"new\", limit=500):\n",
    "          try:\n",
    "              texto_completo = f\"{post.title} {post.selftext}\".strip()\n",
    "              if not texto_completo:\n",
    "                  continue\n",
    "\n",
    "              idioma = detect(texto_completo)\n",
    "              if idioma not in ['es', 'en']:\n",
    "                  continue\n",
    "\n",
    "              resultados.append({\n",
    "                  \"titulo\": post.title,\n",
    "                  \"texto\": post.selftext,\n",
    "                  \"url\": post.url,\n",
    "                  \"fecha\": datetime.utcfromtimestamp(post.created_utc).strftime(\"%Y-%m-%d %H:%M:%S\"),\n",
    "                  \"autor\": str(post.author),\n",
    "                  \"ciudad\": ciudad,\n",
    "                  \"keyword\": keyword,\n",
    "                  \"query\": query,\n",
    "                  \"idioma\": idioma\n",
    "              })\n",
    "\n",
    "              if len(resultados) >= max_posts:\n",
    "                  break\n",
    "\n",
    "          except Exception:\n",
    "              continue  # si no detecta idioma o hay error, lo ignora\n",
    "\n",
    "      print(f\"{len(resultados)} posts válidos para '{query}'\")\n",
    "      return resultados"
   ]
  },
  {
   "cell_type": "markdown",
   "id": "91f17e72",
   "metadata": {},
   "source": [
    "## 💾 Guardado de resultados\n",
    "- Exporta a: )}_reddit_posts_{timestamp}.json."
   ]
  },
  {
   "cell_type": "code",
   "execution_count": null,
   "id": "8a374d80-8494-44e3-baa7-4f28109c1311",
   "metadata": {
    "id": "8a374d80-8494-44e3-baa7-4f28109c1311"
   },
   "outputs": [],
   "source": [
    "def recolectar_posts_reddit():\n",
    "    for ciudad in ciudades:\n",
    "        print(f\"\\nProcesando ciudad: {ciudad}\")\n",
    "        posts_totales = []\n",
    "\n",
    "        for keyword in palabras_clave:\n",
    "            try:\n",
    "                posts = buscar_posts_reddit(ciudad, keyword, max_posts=600)\n",
    "            except Exception as e:\n",
    "                print(f\"Error con '{ciudad} {keyword}': {e}\")\n",
    "                posts = []\n",
    "\n",
    "            posts_totales.extend(posts)\n",
    "\n",
    "        # Guardar archivo por ciudad\n",
    "        timestamp = datetime.now().strftime(\"%Y%m%d\")\n",
    "        filename = f\"{ciudad.replace(' ', '_')}_reddit_posts_{timestamp}.json\"\n",
    "        with open(filename, \"w\", encoding=\"utf-8\") as f:\n",
    "            json.dump(posts_totales, f, ensure_ascii=False, indent=2)\n",
    "\n",
    "        print(f\"Guardado {len(posts_totales)} posts en {filename}\")"
   ]
  },
  {
   "cell_type": "markdown",
   "id": "411a9644",
   "metadata": {},
   "source": [
    "## 🧪 Bloque de código\n",
    "- Ejecución/operaciones auxiliares del flujo."
   ]
  },
  {
   "cell_type": "code",
   "execution_count": null,
   "id": "c51de394-07da-48c0-ba53-046f43531a86",
   "metadata": {
    "id": "c51de394-07da-48c0-ba53-046f43531a86",
    "outputId": "98a71210-4724-4191-c2b8-315bdbc98790"
   },
   "outputs": [
    {
     "name": "stdout",
     "output_type": "stream",
     "text": [
      "\n",
      "Procesando ciudad: Tenerife\n",
      "Buscando: Tenerife turismo\n",
      "0 posts válidos para 'Tenerife turismo'\n",
      "Buscando: Tenerife atracciones\n",
      "4 posts válidos para 'Tenerife atracciones'\n",
      "Buscando: Tenerife qué hacer\n",
      "249 posts válidos para 'Tenerife qué hacer'\n",
      "Buscando: Tenerife hoteles\n",
      "225 posts válidos para 'Tenerife hoteles'\n",
      "Buscando: Tenerife viaje\n",
      "56 posts válidos para 'Tenerife viaje'\n",
      "Buscando: Tenerife lugares turísticos\n",
      "173 posts válidos para 'Tenerife lugares turísticos'\n",
      "Buscando: Tenerife vacaciones\n",
      "31 posts válidos para 'Tenerife vacaciones'\n",
      "Buscando: Tenerife tourism\n",
      "87 posts válidos para 'Tenerife tourism'\n",
      "Buscando: Tenerife things to do\n",
      "216 posts válidos para 'Tenerife things to do'\n",
      "Buscando: Tenerife attractions\n",
      "63 posts válidos para 'Tenerife attractions'\n",
      "Buscando: Tenerife hotels\n",
      "225 posts válidos para 'Tenerife hotels'\n",
      "Guardado 1329 posts en Tenerife_reddit_posts_20250810.json\n",
      "\n",
      "Procesando ciudad: Barcelona\n",
      "Buscando: Barcelona turismo\n",
      "196 posts válidos para 'Barcelona turismo'\n",
      "Buscando: Barcelona atracciones\n",
      "38 posts válidos para 'Barcelona atracciones'\n",
      "Buscando: Barcelona qué hacer\n",
      "249 posts válidos para 'Barcelona qué hacer'\n",
      "Buscando: Barcelona hoteles\n",
      "235 posts válidos para 'Barcelona hoteles'\n",
      "Buscando: Barcelona viaje\n",
      "0 posts válidos para 'Barcelona viaje'\n",
      "Buscando: Barcelona lugares turísticos\n",
      "191 posts válidos para 'Barcelona lugares turísticos'\n",
      "Buscando: Barcelona vacaciones\n",
      "99 posts válidos para 'Barcelona vacaciones'\n",
      "Buscando: Barcelona tourism\n",
      "228 posts válidos para 'Barcelona tourism'\n",
      "Buscando: Barcelona things to do\n",
      "249 posts válidos para 'Barcelona things to do'\n",
      "Buscando: Barcelona attractions\n",
      "240 posts válidos para 'Barcelona attractions'\n",
      "Buscando: Barcelona hotels\n",
      "236 posts válidos para 'Barcelona hotels'\n",
      "Guardado 1961 posts en Barcelona_reddit_posts_20250810.json\n",
      "\n",
      "Procesando ciudad: Madrid\n",
      "Buscando: Madrid turismo\n",
      "191 posts válidos para 'Madrid turismo'\n",
      "Buscando: Madrid atracciones\n",
      "80 posts válidos para 'Madrid atracciones'\n",
      "Buscando: Madrid qué hacer\n",
      "249 posts válidos para 'Madrid qué hacer'\n",
      "Buscando: Madrid hoteles\n",
      "219 posts válidos para 'Madrid hoteles'\n",
      "Buscando: Madrid viaje\n",
      "247 posts válidos para 'Madrid viaje'\n",
      "Buscando: Madrid lugares turísticos\n",
      "192 posts válidos para 'Madrid lugares turísticos'\n",
      "Buscando: Madrid vacaciones\n",
      "153 posts válidos para 'Madrid vacaciones'\n",
      "Buscando: Madrid tourism\n",
      "233 posts válidos para 'Madrid tourism'\n",
      "Buscando: Madrid things to do\n",
      "243 posts válidos para 'Madrid things to do'\n",
      "Buscando: Madrid attractions\n",
      "242 posts válidos para 'Madrid attractions'\n",
      "Buscando: Madrid hotels\n",
      "219 posts válidos para 'Madrid hotels'\n",
      "Guardado 2268 posts en Madrid_reddit_posts_20250810.json\n",
      "\n",
      "Procesando ciudad: Malaga\n",
      "Buscando: Malaga turismo\n",
      "25 posts válidos para 'Malaga turismo'\n",
      "Buscando: Malaga atracciones\n",
      "3 posts válidos para 'Malaga atracciones'\n",
      "Buscando: Malaga qué hacer\n",
      "249 posts válidos para 'Malaga qué hacer'\n",
      "Buscando: Malaga hoteles\n",
      "238 posts válidos para 'Malaga hoteles'\n",
      "Buscando: Malaga viaje\n",
      "40 posts válidos para 'Malaga viaje'\n",
      "Buscando: Malaga lugares turísticos\n",
      "174 posts válidos para 'Malaga lugares turísticos'\n",
      "Buscando: Malaga vacaciones\n",
      "26 posts válidos para 'Malaga vacaciones'\n",
      "Buscando: Malaga tourism\n",
      "97 posts válidos para 'Malaga tourism'\n",
      "Buscando: Malaga things to do\n",
      "235 posts válidos para 'Malaga things to do'\n",
      "Buscando: Malaga attractions\n",
      "209 posts válidos para 'Malaga attractions'\n",
      "Buscando: Malaga hotels\n",
      "238 posts válidos para 'Malaga hotels'\n",
      "Guardado 1534 posts en Malaga_reddit_posts_20250810.json\n",
      "\n",
      "Procesando ciudad: Gran Canaria\n",
      "Buscando: Gran Canaria turismo\n",
      "221 posts válidos para 'Gran Canaria turismo'\n",
      "Buscando: Gran Canaria atracciones\n",
      "217 posts válidos para 'Gran Canaria atracciones'\n",
      "Buscando: Gran Canaria qué hacer\n",
      "247 posts válidos para 'Gran Canaria qué hacer'\n",
      "Buscando: Gran Canaria hoteles\n",
      "220 posts válidos para 'Gran Canaria hoteles'\n",
      "Buscando: Gran Canaria viaje\n",
      "230 posts válidos para 'Gran Canaria viaje'\n",
      "Buscando: Gran Canaria lugares turísticos\n",
      "225 posts válidos para 'Gran Canaria lugares turísticos'\n",
      "Buscando: Gran Canaria vacaciones\n",
      "227 posts válidos para 'Gran Canaria vacaciones'\n",
      "Buscando: Gran Canaria tourism\n",
      "213 posts válidos para 'Gran Canaria tourism'\n",
      "Buscando: Gran Canaria things to do\n",
      "243 posts válidos para 'Gran Canaria things to do'\n",
      "Buscando: Gran Canaria attractions\n",
      "224 posts válidos para 'Gran Canaria attractions'\n",
      "Buscando: Gran Canaria hotels\n",
      "221 posts válidos para 'Gran Canaria hotels'\n",
      "Guardado 2488 posts en Gran_Canaria_reddit_posts_20250810.json\n",
      "\n",
      "Procesando ciudad: Seville\n",
      "Buscando: Seville turismo\n",
      "9 posts válidos para 'Seville turismo'\n",
      "Buscando: Seville atracciones\n",
      "3 posts válidos para 'Seville atracciones'\n",
      "Buscando: Seville qué hacer\n",
      "249 posts válidos para 'Seville qué hacer'\n",
      "Buscando: Seville hoteles\n",
      "242 posts válidos para 'Seville hoteles'\n",
      "Buscando: Seville viaje\n",
      "10 posts válidos para 'Seville viaje'\n",
      "Buscando: Seville lugares turísticos\n",
      "173 posts válidos para 'Seville lugares turísticos'\n",
      "Buscando: Seville vacaciones\n",
      "1 posts válidos para 'Seville vacaciones'\n",
      "Buscando: Seville tourism\n",
      "102 posts válidos para 'Seville tourism'\n",
      "Buscando: Seville things to do\n",
      "245 posts válidos para 'Seville things to do'\n",
      "Buscando: Seville attractions\n",
      "246 posts válidos para 'Seville attractions'\n",
      "Buscando: Seville hotels\n",
      "242 posts válidos para 'Seville hotels'\n",
      "Guardado 1522 posts en Seville_reddit_posts_20250810.json\n",
      "\n",
      "Procesando ciudad: Valencia\n",
      "Buscando: Valencia turismo\n",
      "104 posts válidos para 'Valencia turismo'\n",
      "Buscando: Valencia atracciones\n",
      "13 posts válidos para 'Valencia atracciones'\n",
      "Buscando: Valencia qué hacer\n",
      "249 posts válidos para 'Valencia qué hacer'\n",
      "Buscando: Valencia hoteles\n",
      "234 posts válidos para 'Valencia hoteles'\n",
      "Buscando: Valencia viaje\n",
      "172 posts válidos para 'Valencia viaje'\n",
      "Buscando: Valencia lugares turísticos\n",
      "185 posts válidos para 'Valencia lugares turísticos'\n",
      "Buscando: Valencia vacaciones\n",
      "113 posts válidos para 'Valencia vacaciones'\n",
      "Buscando: Valencia tourism\n",
      "184 posts válidos para 'Valencia tourism'\n",
      "Buscando: Valencia things to do\n",
      "246 posts válidos para 'Valencia things to do'\n",
      "Buscando: Valencia attractions\n",
      "245 posts válidos para 'Valencia attractions'\n",
      "Buscando: Valencia hotels\n",
      "234 posts válidos para 'Valencia hotels'\n",
      "Guardado 1979 posts en Valencia_reddit_posts_20250810.json\n",
      "\n",
      "Procesando ciudad: Palma de Mallorca\n",
      "Buscando: Palma de Mallorca turismo\n",
      "176 posts válidos para 'Palma de Mallorca turismo'\n",
      "Buscando: Palma de Mallorca atracciones\n",
      "190 posts válidos para 'Palma de Mallorca atracciones'\n",
      "Buscando: Palma de Mallorca qué hacer\n",
      "249 posts válidos para 'Palma de Mallorca qué hacer'\n",
      "Buscando: Palma de Mallorca hoteles\n",
      "196 posts válidos para 'Palma de Mallorca hoteles'\n",
      "Buscando: Palma de Mallorca viaje\n",
      "234 posts válidos para 'Palma de Mallorca viaje'\n",
      "Buscando: Palma de Mallorca lugares turísticos\n",
      "160 posts válidos para 'Palma de Mallorca lugares turísticos'\n",
      "Buscando: Palma de Mallorca vacaciones\n",
      "230 posts válidos para 'Palma de Mallorca vacaciones'\n",
      "Buscando: Palma de Mallorca tourism\n",
      "181 posts válidos para 'Palma de Mallorca tourism'\n",
      "Buscando: Palma de Mallorca things to do\n",
      "245 posts válidos para 'Palma de Mallorca things to do'\n",
      "Buscando: Palma de Mallorca attractions\n",
      "213 posts válidos para 'Palma de Mallorca attractions'\n",
      "Buscando: Palma de Mallorca hotels\n",
      "197 posts válidos para 'Palma de Mallorca hotels'\n",
      "Guardado 2271 posts en Palma_de_Mallorca_reddit_posts_20250810.json\n"
     ]
    }
   ],
   "source": [
    "recolectar_posts_reddit()"
   ]
  },
  {
   "cell_type": "markdown",
   "id": "5197f131",
   "metadata": {},
   "source": [
    "## 🧪 Bloque de código\n",
    "- Ejecución/operaciones auxiliares del flujo."
   ]
  },
  {
   "cell_type": "code",
   "execution_count": null,
   "id": "f8a4fd1f-eaaf-4e81-9923-75087c9a26c3",
   "metadata": {
    "id": "f8a4fd1f-eaaf-4e81-9923-75087c9a26c3"
   },
   "outputs": [],
   "source": []
  }
 ],
 "metadata": {},
 "nbformat": 4,
 "nbformat_minor": 5
}
