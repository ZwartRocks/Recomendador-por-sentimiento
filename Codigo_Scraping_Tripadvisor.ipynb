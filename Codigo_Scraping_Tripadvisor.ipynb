{
 "cells": [
  {
   "cell_type": "markdown",
   "id": "00cb5989",
   "metadata": {},
   "source": [
    "# 🧭 Trip Mallorca — *Tu código, seccionado con títulos y pocas partes*\n",
    "Separé en **pocas** celdas por funcionalidad principal (sin cambiar tu lógica), para que sea legible y funcional."
   ]
  },
  {
   "cell_type": "markdown",
   "id": "b7c2c58a",
   "metadata": {},
   "source": [
    "## 🧰 Librerías e importaciones"
   ]
  },
  {
   "cell_type": "code",
   "execution_count": null,
   "id": "256d0e7d",
   "metadata": {},
   "outputs": [],
   "source": [
    "from selenium import webdriver\n",
    "from selenium.webdriver.chrome.service import Service\n",
    "from selenium.webdriver.common.by import By\n",
    "from selenium.webdriver.common.action_chains import ActionChains\n",
    "from selenium.webdriver.support.ui import WebDriverWait\n",
    "from selenium.webdriver.support import expected_conditions as EC\n",
    "from selenium.common.exceptions import TimeoutException\n",
    "import time\n",
    "import csv\n",
    "import re"
   ]
  },
  {
   "cell_type": "code",
   "execution_count": null,
   "id": "a3614f9d-ce32-47f0-9d73-0baf7601beac",
   "metadata": {},
   "outputs": [],
   "source": [
    "def close_all_known_popups(driver):\n",
    "    try:\n",
    "        boton = driver.find_element(By.CSS_SELECTOR, '[aria-label=\"Cerrar\"]')\n",
    "        boton.click()\n",
    "    except:\n",
    "        pass\n",
    "\n",
    "def safe_get(func):\n",
    "    try:\n",
    "        return func()\n",
    "    except:\n",
    "        return None\n"
   ]
  },
  {
   "cell_type": "markdown",
   "id": "407accef",
   "metadata": {},
   "source": [
    "## 💻 Iniciar sesión del navegador"
   ]
  },
  {
   "cell_type": "code",
   "execution_count": null,
   "id": "14176522",
   "metadata": {},
   "outputs": [],
   "source": [
    "driver = webdriver.Chrome(service=Service())\n",
    "driver.get(\"https://www.tripadvisor.es/Attractions-g187463-Activities-c42-Palma_de_Mallorca_Majorca_Balearic_Islands.html\")\n",
    "time.sleep(2)\n",
    "close_all_known_popups(driver)\n",
    "\n",
    "# Aceptar cookies\n",
    "try:\n",
    "    WebDriverWait(driver, 10).until(\n",
    "        EC.element_to_be_clickable((By.ID, \"onetrust-accept-btn-handler\"))\n",
    "    ).click()\n",
    "    print(\"Cookies aceptadas.\")\n",
    "except:\n",
    "    print(\"Banner de cookies no apareció.\")\n",
    "\n",
    "# Cerrar modal de inicio de sesión\n",
    "try:\n",
    "    WebDriverWait(driver, 10).until(\n",
    "        EC.element_to_be_clickable((By.CSS_SELECTOR, '[role=\"dialog\"] button[aria-label=\"Dismiss sign-in info.\"]'))\n",
    "    ).click()\n",
    "except:\n",
    "    print(\"No apareció modal de inicio de sesión.\")\n"
   ]
  },
  {
   "cell_type": "markdown",
   "id": "ae275415",
   "metadata": {},
   "source": [
    "## 🔎 Scrapping"
   ]
  },
  {
   "cell_type": "code",
   "execution_count": null,
   "id": "b5776123",
   "metadata": {},
   "outputs": [],
   "source": [
    "experiencias = []\n",
    "max_paginas = 50\n",
    "\n",
    "for pagina in range(max_paginas):\n",
    "    time.sleep(2)\n",
    "    close_all_known_popups(driver)\n",
    "\n",
    "    tarjetas = driver.find_elements(By.CSS_SELECTOR, 'section[data-automation=\"WebPresentation_SingleFlexCardSection\"]')\n",
    "    print(f\"📄 Página {pagina+1}: {len(tarjetas)} tarjetas encontradas.\")\n",
    "\n",
    "    if len(tarjetas) == 0:\n",
    "        print(\"No se encontraron tarjetas. Fin del scraping.\")\n",
    "        break\n",
    "\n",
    "    for i, tarjeta in enumerate(tarjetas):\n",
    "        try:\n",
    "            ActionChains(driver).move_to_element(tarjeta).perform()\n",
    "            time.sleep(0.5)\n",
    "\n",
    "            nombre = safe_get(lambda: tarjeta.find_element(By.CSS_SELECTOR, 'h3').text.strip())\n",
    "            enlace = safe_get(lambda: tarjeta.find_element(By.CSS_SELECTOR, 'a[target=\"_blank\"]').get_attribute(\"href\"))\n",
    "\n",
    "            puntuacion = None\n",
    "            for span in tarjeta.find_elements(By.CSS_SELECTOR, 'span[aria-hidden=\"true\"]'):\n",
    "                texto = span.text.strip()\n",
    "                if re.match(r\"^\\d+,\\d$\", texto):\n",
    "                    puntuacion = float(texto.replace(\",\", \".\"))\n",
    "                    break\n",
    "\n",
    "            precio = safe_get(lambda: tarjeta.find_element(By.XPATH, \".//*[contains(text(),'€')]\").text.strip())\n",
    "\n",
    "            numero_reviews = None\n",
    "            try:\n",
    "                for div in tarjeta.find_elements(By.CSS_SELECTOR, 'div.biGQs._P.pZUbB.ZNjnF'):\n",
    "                    texto = div.text.strip().replace('.', '')\n",
    "                    if texto.isdigit():\n",
    "                        numero_reviews = int(texto)\n",
    "                        break\n",
    "            except:\n",
    "                pass\n",
    "\n",
    "            descripcion = safe_get(lambda: tarjeta.find_element(By.CSS_SELECTOR, 'span.SwTtt').text.strip())\n",
    "\n",
    "            cancelacion_gratis = False\n",
    "            try:\n",
    "                texto_cancel = tarjeta.find_element(By.CSS_SELECTOR, 'span.biGQs._P.pZUbB.egaXP.ZNjnF').text\n",
    "                if \"Cancelación gratuita\" in texto_cancel:\n",
    "                    cancelacion_gratis = True\n",
    "            except:\n",
    "                pass\n",
    "\n",
    "            imagen = safe_get(lambda: tarjeta.find_element(By.CSS_SELECTOR, 'img').get_attribute(\"src\"))\n",
    "\n",
    "            experiencia = {\n",
    "                \"nombre_experiencia\": nombre,\n",
    "                \"enlace_experiencia\": enlace,\n",
    "                \"puntuacion_experiencia\": puntuacion,\n",
    "                \"precio\": precio,\n",
    "                \"numero_reviews\": numero_reviews,\n",
    "                \"descripcion\": descripcion,\n",
    "                \"cancelacion_gratis\": cancelacion_gratis,\n",
    "                \"url_imagen_experiencia\": imagen\n",
    "            }\n",
    "\n",
    "            experiencias.append(experiencia)\n",
    "            print(f\" #{len(experiencias)}: {nombre}\")\n",
    "\n",
    "        except Exception as e:\n",
    "            print(f\"Error en tarjeta #{i+1}: {e}\")\n",
    "\n",
    "    # Pasar a la siguiente página (método robusto con href como respaldo)\n",
    "    try:\n",
    "        boton_siguiente = WebDriverWait(driver, 10).until(\n",
    "            EC.presence_of_element_located((By.CSS_SELECTOR, 'a[data-smoke-attr=\"pagination-next-arrow\"]'))\n",
    "        )\n",
    "\n",
    "        href = boton_siguiente.get_attribute(\"href\")\n",
    "        if href:\n",
    "            print(\"Clic en botón 'Siguiente'\")\n",
    "            driver.get(href)\n",
    "            time.sleep(3)\n",
    "        else:\n",
    "            print(\"No se encontró href en botón 'Siguiente'.\")\n",
    "            break\n",
    "\n",
    "    except Exception as e:\n",
    "        print(f\"No se pudo pasar a la siguiente página: {e}\")\n",
    "        break"
   ]
  },
  {
   "cell_type": "markdown",
   "id": "f3cb4dbb-e8c6-4c66-b229-575f64ab4092",
   "metadata": {},
   "source": [
    "## 💾 Guardar Archivo"
   ]
  },
  {
   "cell_type": "code",
   "execution_count": null,
   "id": "54b0a392-1223-49b1-b095-3a1e996d9d19",
   "metadata": {},
   "outputs": [],
   "source": [
    "archivo = \"experiencias_tripadvisor_mallorca.csv\"\n",
    "with open(archivo, \"w\", newline=\"\", encoding=\"utf-8\") as f:\n",
    "    campos = [\n",
    "        \"nombre_experiencia\",\n",
    "        \"enlace_experiencia\",\n",
    "        \"puntuacion_experiencia\",\n",
    "        \"precio\",\n",
    "        \"numero_reviews\",\n",
    "        \"descripcion\",\n",
    "        \"cancelacion_gratis\",\n",
    "        \"url_imagen_experiencia\"\n",
    "    ]\n",
    "    writer = csv.DictWriter(f, fieldnames=campos)\n",
    "    writer.writeheader()\n",
    "    writer.writerows(experiencias)\n",
    "\n",
    "driver.quit()\n",
    "print(f\"✅ Scraping completado. Total: {len(experiencias)} experiencias guardadas en {archivo}\")"
   ]
  }
 ],
 "metadata": {
  "kernelspec": {
   "display_name": "Python 3 (ipykernel)",
   "language": "python",
   "name": "python3"
  },
  "language_info": {
   "codemirror_mode": {
    "name": "ipython",
    "version": 3
   },
   "file_extension": ".py",
   "mimetype": "text/x-python",
   "name": "python",
   "nbconvert_exporter": "python",
   "pygments_lexer": "ipython3",
   "version": "3.12.2"
  }
 },
 "nbformat": 4,
 "nbformat_minor": 5
}
